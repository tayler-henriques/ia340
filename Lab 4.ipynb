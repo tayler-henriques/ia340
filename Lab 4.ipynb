{
 "cells": [
  {
   "cell_type": "markdown",
   "id": "d8c48888",
   "metadata": {},
   "source": [
    "# Lab 4"
   ]
  },
  {
   "cell_type": "markdown",
   "id": "c943e9d7",
   "metadata": {},
   "source": [
    "## import libraries"
   ]
  },
  {
   "cell_type": "code",
   "execution_count": 1,
   "id": "e7dc6117",
   "metadata": {},
   "outputs": [
    {
     "name": "stderr",
     "output_type": "stream",
     "text": [
      "/home/ec2-user/anaconda3/envs/python3/lib/python3.6/site-packages/psycopg2/__init__.py:144: UserWarning: The psycopg2 wheel package will be renamed from release 2.8; in order to keep installing from binary please use \"pip install psycopg2-binary\" instead. For details see: <http://initd.org/psycopg/docs/install.html#binary-install-from-pypi>.\n",
      "  \"\"\")\n"
     ]
    }
   ],
   "source": [
    "import pandas\n",
    "import configparser\n",
    "import psycopg2"
   ]
  },
  {
   "cell_type": "markdown",
   "id": "6ddac94d",
   "metadata": {},
   "source": [
    "## connect to database"
   ]
  },
  {
   "cell_type": "code",
   "execution_count": 2,
   "id": "15ebd4c0",
   "metadata": {},
   "outputs": [],
   "source": [
    "config = configparser.ConfigParser()\n",
    "config.read('config.ini')\n",
    "\n",
    "host=config['myaws']['host']\n",
    "db=config['myaws']['db']\n",
    "user=config['myaws']['user']\n",
    "pwd = config['myaws']['pwd']\n",
    "\n",
    "conn = psycopg2.connect(  host=host,\n",
    "                       user=user,\n",
    "                       password = pwd,\n",
    "                       dbname=db)"
   ]
  },
  {
   "cell_type": "code",
   "execution_count": 3,
   "id": "2991c819",
   "metadata": {},
   "outputs": [],
   "source": [
    "cur = conn.cursor()"
   ]
  },
  {
   "cell_type": "markdown",
   "id": "b01dac05",
   "metadata": {},
   "source": [
    "### 3.1"
   ]
  },
  {
   "cell_type": "code",
   "execution_count": 4,
   "id": "0b6abc91",
   "metadata": {
    "scrolled": true
   },
   "outputs": [
    {
     "data": {
      "text/html": [
       "<div>\n",
       "<style scoped>\n",
       "    .dataframe tbody tr th:only-of-type {\n",
       "        vertical-align: middle;\n",
       "    }\n",
       "\n",
       "    .dataframe tbody tr th {\n",
       "        vertical-align: top;\n",
       "    }\n",
       "\n",
       "    .dataframe thead th {\n",
       "        text-align: right;\n",
       "    }\n",
       "</style>\n",
       "<table border=\"1\" class=\"dataframe\">\n",
       "  <thead>\n",
       "    <tr style=\"text-align: right;\">\n",
       "      <th></th>\n",
       "      <th>s_email</th>\n",
       "      <th>s_name</th>\n",
       "      <th>s_major</th>\n",
       "    </tr>\n",
       "  </thead>\n",
       "  <tbody>\n",
       "    <tr>\n",
       "      <th>0</th>\n",
       "      <td>abcde@jmu.edu</td>\n",
       "      <td>ana</td>\n",
       "      <td>intelligence analysis</td>\n",
       "    </tr>\n",
       "    <tr>\n",
       "      <th>1</th>\n",
       "      <td>fghij@jmu.edu</td>\n",
       "      <td>franny</td>\n",
       "      <td>statistics</td>\n",
       "    </tr>\n",
       "    <tr>\n",
       "      <th>2</th>\n",
       "      <td>klmno@jmu.edu</td>\n",
       "      <td>kyle</td>\n",
       "      <td>biology</td>\n",
       "    </tr>\n",
       "    <tr>\n",
       "      <th>3</th>\n",
       "      <td>pqrst@jmu.edu</td>\n",
       "      <td>peter</td>\n",
       "      <td>intelligence analysis</td>\n",
       "    </tr>\n",
       "  </tbody>\n",
       "</table>\n",
       "</div>"
      ],
      "text/plain": [
       "         s_email  s_name                s_major\n",
       "0  abcde@jmu.edu     ana  intelligence analysis\n",
       "1  fghij@jmu.edu  franny             statistics\n",
       "2  klmno@jmu.edu    kyle                biology\n",
       "3  pqrst@jmu.edu   peter  intelligence analysis"
      ]
     },
     "execution_count": 4,
     "metadata": {},
     "output_type": "execute_result"
    }
   ],
   "source": [
    "df_student=pandas.read_sql_query('select * from gp20.student',conn)\n",
    "df_student[:]"
   ]
  },
  {
   "cell_type": "markdown",
   "id": "5f83df00",
   "metadata": {},
   "source": [
    "### 3.2"
   ]
  },
  {
   "cell_type": "code",
   "execution_count": 5,
   "id": "e800675b",
   "metadata": {
    "scrolled": true
   },
   "outputs": [],
   "source": [
    "sql_statement = \"\"\" select gp20.professor.p_name,\n",
    "                            gp20.course.c_name\n",
    "            from gp20.professor\n",
    "            inner join gp20.course\n",
    "            on gp20.professor.p_email = gp20.course.p_email\"\"\""
   ]
  },
  {
   "cell_type": "code",
   "execution_count": 6,
   "id": "e8ddef6e",
   "metadata": {},
   "outputs": [
    {
     "data": {
      "text/html": [
       "<div>\n",
       "<style scoped>\n",
       "    .dataframe tbody tr th:only-of-type {\n",
       "        vertical-align: middle;\n",
       "    }\n",
       "\n",
       "    .dataframe tbody tr th {\n",
       "        vertical-align: top;\n",
       "    }\n",
       "\n",
       "    .dataframe thead th {\n",
       "        text-align: right;\n",
       "    }\n",
       "</style>\n",
       "<table border=\"1\" class=\"dataframe\">\n",
       "  <thead>\n",
       "    <tr style=\"text-align: right;\">\n",
       "      <th></th>\n",
       "      <th>p_name</th>\n",
       "      <th>c_name</th>\n",
       "    </tr>\n",
       "  </thead>\n",
       "  <tbody>\n",
       "    <tr>\n",
       "      <th>0</th>\n",
       "      <td>orrlandrew danzell</td>\n",
       "      <td>national security</td>\n",
       "    </tr>\n",
       "    <tr>\n",
       "      <th>1</th>\n",
       "      <td>timothy walton</td>\n",
       "      <td>hypothesis testing</td>\n",
       "    </tr>\n",
       "    <tr>\n",
       "      <th>2</th>\n",
       "      <td>new_p</td>\n",
       "      <td>new_c_name</td>\n",
       "    </tr>\n",
       "    <tr>\n",
       "      <th>3</th>\n",
       "      <td>new_p</td>\n",
       "      <td>data mining</td>\n",
       "    </tr>\n",
       "    <tr>\n",
       "      <th>4</th>\n",
       "      <td>p7</td>\n",
       "      <td>wmd</td>\n",
       "    </tr>\n",
       "    <tr>\n",
       "      <th>5</th>\n",
       "      <td>new_p</td>\n",
       "      <td>seminar</td>\n",
       "    </tr>\n",
       "  </tbody>\n",
       "</table>\n",
       "</div>"
      ],
      "text/plain": [
       "               p_name              c_name\n",
       "0  orrlandrew danzell   national security\n",
       "1      timothy walton  hypothesis testing\n",
       "2               new_p          new_c_name\n",
       "3               new_p         data mining\n",
       "4                  p7                 wmd\n",
       "5               new_p             seminar"
      ]
     },
     "execution_count": 6,
     "metadata": {},
     "output_type": "execute_result"
    }
   ],
   "source": [
    "df_prof=pandas.read_sql_query(sql_statement,conn)\n",
    "df_prof[:]"
   ]
  },
  {
   "cell_type": "markdown",
   "id": "5d1d3b78",
   "metadata": {},
   "source": [
    "### 3.3"
   ]
  },
  {
   "cell_type": "code",
   "execution_count": 7,
   "id": "c4d44649",
   "metadata": {},
   "outputs": [],
   "source": [
    "sql_statement1 = \"\"\" select c_number,\n",
    "                    count(c_number) as enrolled\n",
    "                    from gp20.enroll_list\n",
    "                    group by c_number\n",
    "                    order by enrolled desc\"\"\""
   ]
  },
  {
   "cell_type": "code",
   "execution_count": 8,
   "id": "0130f673",
   "metadata": {},
   "outputs": [
    {
     "data": {
      "text/plain": [
       "<AxesSubplot:xlabel='c_number'>"
      ]
     },
     "execution_count": 8,
     "metadata": {},
     "output_type": "execute_result"
    },
    {
     "data": {
      "image/png": "[encoded data removed]",
      "text/plain": [
       "<Figure size 432x288 with 1 Axes>"
      ]
     },
     "metadata": {
      "needs_background": "light"
     },
     "output_type": "display_data"
    }
   ],
   "source": [
    "df_price=pandas.read_sql_query(sql_statement1 , conn)\n",
    "\n",
    "df_price.plot.bar(x='c_number',y='enrolled')"
   ]
  },
  {
   "cell_type": "markdown",
   "id": "5273a5ae",
   "metadata": {},
   "source": [
    "### 3.4"
   ]
  },
  {
   "cell_type": "code",
   "execution_count": 9,
   "id": "d1af5c1f",
   "metadata": {},
   "outputs": [],
   "source": [
    "sql_statement2 = \"\"\" select p_name,\n",
    "                    count(gp20.course.c_name) as teaching_number\n",
    "                    from gp20.professor\n",
    "                    inner join gp20.course\n",
    "                    on gp20.professor.p_email = gp20.course.p_email\n",
    "                    group by professor.p_name\n",
    "                    order by teaching_number desc\"\"\""
   ]
  },
  {
   "cell_type": "code",
   "execution_count": 10,
   "id": "01b50601",
   "metadata": {},
   "outputs": [
    {
     "data": {
      "text/plain": [
       "<AxesSubplot:xlabel='p_name'>"
      ]
     },
     "execution_count": 10,
     "metadata": {},
     "output_type": "execute_result"
    },
    {
     "data": {
      "image/png": "[encoded data removed]",
      "text/plain": [
       "<Figure size 432x288 with 1 Axes>"
      ]
     },
     "metadata": {
      "needs_background": "light"
     },
     "output_type": "display_data"
    }
   ],
   "source": [
    "df_price=pandas.read_sql_query(sql_statement2 , conn)\n",
    "\n",
    "df_price.plot.bar(x='p_name',y='teaching_number')"
   ]
  },
  {
   "cell_type": "markdown",
   "id": "93753ed2",
   "metadata": {},
   "source": [
    "### 3.5"
   ]
  },
  {
   "cell_type": "code",
   "execution_count": 20,
   "id": "4747e95c",
   "metadata": {},
   "outputs": [
    {
     "name": "stdout",
     "output_type": "stream",
     "text": [
      "\n",
      "                insert into gp20.professor(p_email,p_name,p_office)\n",
      "                values('p@jmu.edu','p','99')\n",
      "                                \n",
      "                \n"
     ]
    }
   ],
   "source": [
    "sql_statement4 = \"\"\"\n",
    "                insert into gp20.professor(p_email,p_name,p_office)\n",
    "                values('{}','{}','{}')\n",
    "                                \n",
    "                \"\"\".format('p@jmu.edu','p','99')\n",
    "\n",
    "print(sql_statement4)"
   ]
  },
  {
   "cell_type": "code",
   "execution_count": 25,
   "id": "80ee06a9",
   "metadata": {},
   "outputs": [],
   "source": [
    "conn.rollback()"
   ]
  },
  {
   "cell_type": "code",
   "execution_count": 21,
   "id": "dc777c3c",
   "metadata": {
    "scrolled": true
   },
   "outputs": [],
   "source": [
    "cur.execute(sql_statement4)"
   ]
  },
  {
   "cell_type": "code",
   "execution_count": 22,
   "id": "155feba3",
   "metadata": {},
   "outputs": [],
   "source": [
    "conn.commit()"
   ]
  },
  {
   "cell_type": "code",
   "execution_count": 26,
   "id": "72fd13e6",
   "metadata": {},
   "outputs": [
    {
     "name": "stdout",
     "output_type": "stream",
     "text": [
      "\n",
      "                insert into gp20.course(c_number,c_name,c_room,p_email)\n",
      "                values('5556','wmd','isat123','p7@jmu.edu')\n",
      "                                \n",
      "                \n"
     ]
    }
   ],
   "source": [
    "sql_statement5 = \"\"\"\n",
    "                insert into gp20.course(c_number,c_name,c_room,p_email)\n",
    "                values('{}','{}','{}','{}')\n",
    "                                \n",
    "                \"\"\".format('5556','wmd','isat123','p7@jmu.edu')\n",
    "print(sql_statement5)"
   ]
  },
  {
   "cell_type": "code",
   "execution_count": 27,
   "id": "9d48bb3b",
   "metadata": {},
   "outputs": [],
   "source": [
    "cur.execute(sql_statement5)"
   ]
  },
  {
   "cell_type": "code",
   "execution_count": 28,
   "id": "fb94b119",
   "metadata": {},
   "outputs": [],
   "source": [
    "conn.commit()"
   ]
  },
  {
   "cell_type": "code",
   "execution_count": 29,
   "id": "5a6b3acd",
   "metadata": {
    "scrolled": true
   },
   "outputs": [
    {
     "data": {
      "text/html": [
       "<div>\n",
       "<style scoped>\n",
       "    .dataframe tbody tr th:only-of-type {\n",
       "        vertical-align: middle;\n",
       "    }\n",
       "\n",
       "    .dataframe tbody tr th {\n",
       "        vertical-align: top;\n",
       "    }\n",
       "\n",
       "    .dataframe thead th {\n",
       "        text-align: right;\n",
       "    }\n",
       "</style>\n",
       "<table border=\"1\" class=\"dataframe\">\n",
       "  <thead>\n",
       "    <tr style=\"text-align: right;\">\n",
       "      <th></th>\n",
       "      <th>p_email</th>\n",
       "      <th>p_name</th>\n",
       "      <th>p_office</th>\n",
       "    </tr>\n",
       "  </thead>\n",
       "  <tbody>\n",
       "    <tr>\n",
       "      <th>0</th>\n",
       "      <td>danzelox@jmu.edu</td>\n",
       "      <td>orrlandrew danzell</td>\n",
       "      <td>isat/cs107</td>\n",
       "    </tr>\n",
       "    <tr>\n",
       "      <th>1</th>\n",
       "      <td>waltontr@jmu.edu</td>\n",
       "      <td>timothy walton</td>\n",
       "      <td>isat/cs326</td>\n",
       "    </tr>\n",
       "    <tr>\n",
       "      <th>2</th>\n",
       "      <td>new_p@jmu.edu</td>\n",
       "      <td>new_p</td>\n",
       "      <td>new_office</td>\n",
       "    </tr>\n",
       "    <tr>\n",
       "      <th>3</th>\n",
       "      <td>rabb@jmu.edu</td>\n",
       "      <td>rabb</td>\n",
       "      <td>isat312</td>\n",
       "    </tr>\n",
       "    <tr>\n",
       "      <th>4</th>\n",
       "      <td>julian@jmu.edu</td>\n",
       "      <td>julian</td>\n",
       "      <td>isat1010</td>\n",
       "    </tr>\n",
       "    <tr>\n",
       "      <th>5</th>\n",
       "      <td>tayler@jmu.edu</td>\n",
       "      <td>tayler</td>\n",
       "      <td>isat1011</td>\n",
       "    </tr>\n",
       "    <tr>\n",
       "      <th>6</th>\n",
       "      <td>p6@jmu.edu</td>\n",
       "      <td>p6</td>\n",
       "      <td>66</td>\n",
       "    </tr>\n",
       "    <tr>\n",
       "      <th>7</th>\n",
       "      <td>p7@jmu.edu</td>\n",
       "      <td>p7</td>\n",
       "      <td>77</td>\n",
       "    </tr>\n",
       "    <tr>\n",
       "      <th>8</th>\n",
       "      <td>p8@jmu.edu</td>\n",
       "      <td>p8</td>\n",
       "      <td>88</td>\n",
       "    </tr>\n",
       "    <tr>\n",
       "      <th>9</th>\n",
       "      <td>p@jmu.edu</td>\n",
       "      <td>p</td>\n",
       "      <td>99</td>\n",
       "    </tr>\n",
       "  </tbody>\n",
       "</table>\n",
       "</div>"
      ],
      "text/plain": [
       "            p_email              p_name    p_office\n",
       "0  danzelox@jmu.edu  orrlandrew danzell  isat/cs107\n",
       "1  waltontr@jmu.edu      timothy walton  isat/cs326\n",
       "2     new_p@jmu.edu               new_p  new_office\n",
       "3      rabb@jmu.edu                rabb     isat312\n",
       "4    julian@jmu.edu              julian    isat1010\n",
       "5    tayler@jmu.edu              tayler    isat1011\n",
       "6        p6@jmu.edu                  p6          66\n",
       "7        p7@jmu.edu                  p7          77\n",
       "8        p8@jmu.edu                  p8          88\n",
       "9         p@jmu.edu                   p          99"
      ]
     },
     "execution_count": 29,
     "metadata": {},
     "output_type": "execute_result"
    }
   ],
   "source": [
    "df_prof1=pandas.read_sql_query('select * from gp20.professor',conn)\n",
    "df_prof1[:]"
   ]
  },
  {
   "cell_type": "code",
   "execution_count": 30,
   "id": "e174a5f7",
   "metadata": {},
   "outputs": [
    {
     "data": {
      "text/html": [
       "<div>\n",
       "<style scoped>\n",
       "    .dataframe tbody tr th:only-of-type {\n",
       "        vertical-align: middle;\n",
       "    }\n",
       "\n",
       "    .dataframe tbody tr th {\n",
       "        vertical-align: top;\n",
       "    }\n",
       "\n",
       "    .dataframe thead th {\n",
       "        text-align: right;\n",
       "    }\n",
       "</style>\n",
       "<table border=\"1\" class=\"dataframe\">\n",
       "  <thead>\n",
       "    <tr style=\"text-align: right;\">\n",
       "      <th></th>\n",
       "      <th>c_number</th>\n",
       "      <th>c_name</th>\n",
       "      <th>c_room</th>\n",
       "      <th>p_email</th>\n",
       "    </tr>\n",
       "  </thead>\n",
       "  <tbody>\n",
       "    <tr>\n",
       "      <th>0</th>\n",
       "      <td>2222</td>\n",
       "      <td>national security</td>\n",
       "      <td>isat/cs222</td>\n",
       "      <td>danzelox@jmu.edu</td>\n",
       "    </tr>\n",
       "    <tr>\n",
       "      <th>1</th>\n",
       "      <td>4444</td>\n",
       "      <td>hypothesis testing</td>\n",
       "      <td>isat/cs444</td>\n",
       "      <td>waltontr@jmu.edu</td>\n",
       "    </tr>\n",
       "    <tr>\n",
       "      <th>2</th>\n",
       "      <td>ia_new</td>\n",
       "      <td>new_c_name</td>\n",
       "      <td>online</td>\n",
       "      <td>new_p@jmu.edu</td>\n",
       "    </tr>\n",
       "    <tr>\n",
       "      <th>3</th>\n",
       "      <td>1111</td>\n",
       "      <td>data mining</td>\n",
       "      <td>isat/cs111</td>\n",
       "      <td>new_p@jmu.edu</td>\n",
       "    </tr>\n",
       "    <tr>\n",
       "      <th>4</th>\n",
       "      <td>5555</td>\n",
       "      <td>wmd</td>\n",
       "      <td>isat123</td>\n",
       "      <td>p7@jmu.edu</td>\n",
       "    </tr>\n",
       "    <tr>\n",
       "      <th>5</th>\n",
       "      <td>3333</td>\n",
       "      <td>seminar</td>\n",
       "      <td>engeo333</td>\n",
       "      <td>new_p@jmu.edu</td>\n",
       "    </tr>\n",
       "    <tr>\n",
       "      <th>6</th>\n",
       "      <td>5556</td>\n",
       "      <td>wmd</td>\n",
       "      <td>isat123</td>\n",
       "      <td>p7@jmu.edu</td>\n",
       "    </tr>\n",
       "  </tbody>\n",
       "</table>\n",
       "</div>"
      ],
      "text/plain": [
       "  c_number              c_name      c_room           p_email\n",
       "0     2222   national security  isat/cs222  danzelox@jmu.edu\n",
       "1     4444  hypothesis testing  isat/cs444  waltontr@jmu.edu\n",
       "2   ia_new          new_c_name      online     new_p@jmu.edu\n",
       "3     1111         data mining  isat/cs111     new_p@jmu.edu\n",
       "4     5555                 wmd     isat123        p7@jmu.edu\n",
       "5     3333             seminar    engeo333     new_p@jmu.edu\n",
       "6     5556                 wmd     isat123        p7@jmu.edu"
      ]
     },
     "execution_count": 30,
     "metadata": {},
     "output_type": "execute_result"
    }
   ],
   "source": [
    "df_prof1=pandas.read_sql_query('select * from gp20.course',conn)\n",
    "df_prof1[:]"
   ]
  },
  {
   "cell_type": "markdown",
   "id": "41b9792a",
   "metadata": {},
   "source": [
    "### 3.6"
   ]
  },
  {
   "cell_type": "code",
   "execution_count": 102,
   "id": "348f8905",
   "metadata": {},
   "outputs": [],
   "source": [
    "sql_statement6 = \"\"\"\n",
    "                update gp20.course\n",
    "                set p_email = '{}'\n",
    "                where p_email = '{}'\n",
    "               \n",
    "                \"\"\".format ('new_p@jmu.edu' , 'marrinsp@jmu.edu')\n"
   ]
  },
  {
   "cell_type": "code",
   "execution_count": 103,
   "id": "61d2f9f3",
   "metadata": {},
   "outputs": [],
   "source": [
    "cur.execute(sql_statement6)"
   ]
  },
  {
   "cell_type": "code",
   "execution_count": 104,
   "id": "173de1fe",
   "metadata": {},
   "outputs": [],
   "source": [
    "conn.commit()"
   ]
  },
  {
   "cell_type": "code",
   "execution_count": 106,
   "id": "1cd86fbb",
   "metadata": {},
   "outputs": [
    {
     "data": {
      "text/html": [
       "<div>\n",
       "<style scoped>\n",
       "    .dataframe tbody tr th:only-of-type {\n",
       "        vertical-align: middle;\n",
       "    }\n",
       "\n",
       "    .dataframe tbody tr th {\n",
       "        vertical-align: top;\n",
       "    }\n",
       "\n",
       "    .dataframe thead th {\n",
       "        text-align: right;\n",
       "    }\n",
       "</style>\n",
       "<table border=\"1\" class=\"dataframe\">\n",
       "  <thead>\n",
       "    <tr style=\"text-align: right;\">\n",
       "      <th></th>\n",
       "      <th>c_number</th>\n",
       "      <th>c_name</th>\n",
       "      <th>c_room</th>\n",
       "      <th>p_email</th>\n",
       "    </tr>\n",
       "  </thead>\n",
       "  <tbody>\n",
       "    <tr>\n",
       "      <th>0</th>\n",
       "      <td>2222</td>\n",
       "      <td>national security</td>\n",
       "      <td>isat/cs222</td>\n",
       "      <td>danzelox@jmu.edu</td>\n",
       "    </tr>\n",
       "    <tr>\n",
       "      <th>1</th>\n",
       "      <td>4444</td>\n",
       "      <td>hypothesis testing</td>\n",
       "      <td>isat/cs444</td>\n",
       "      <td>waltontr@jmu.edu</td>\n",
       "    </tr>\n",
       "    <tr>\n",
       "      <th>2</th>\n",
       "      <td>ia_new</td>\n",
       "      <td>new_c_name</td>\n",
       "      <td>online</td>\n",
       "      <td>new_p@jmu.edu</td>\n",
       "    </tr>\n",
       "    <tr>\n",
       "      <th>3</th>\n",
       "      <td>1111</td>\n",
       "      <td>data mining</td>\n",
       "      <td>isat/cs111</td>\n",
       "      <td>new_p@jmu.edu</td>\n",
       "    </tr>\n",
       "    <tr>\n",
       "      <th>4</th>\n",
       "      <td>5555</td>\n",
       "      <td>wmd</td>\n",
       "      <td>isat123</td>\n",
       "      <td>p7@jmu.edu</td>\n",
       "    </tr>\n",
       "    <tr>\n",
       "      <th>5</th>\n",
       "      <td>3333</td>\n",
       "      <td>seminar</td>\n",
       "      <td>engeo333</td>\n",
       "      <td>new_p@jmu.edu</td>\n",
       "    </tr>\n",
       "  </tbody>\n",
       "</table>\n",
       "</div>"
      ],
      "text/plain": [
       "  c_number              c_name      c_room           p_email\n",
       "0     2222   national security  isat/cs222  danzelox@jmu.edu\n",
       "1     4444  hypothesis testing  isat/cs444  waltontr@jmu.edu\n",
       "2   ia_new          new_c_name      online     new_p@jmu.edu\n",
       "3     1111         data mining  isat/cs111     new_p@jmu.edu\n",
       "4     5555                 wmd     isat123        p7@jmu.edu\n",
       "5     3333             seminar    engeo333     new_p@jmu.edu"
      ]
     },
     "execution_count": 106,
     "metadata": {},
     "output_type": "execute_result"
    }
   ],
   "source": [
    "df_c=pandas.read_sql_query('select * from gp20.course',conn)\n",
    "df_c[:]"
   ]
  },
  {
   "cell_type": "code",
   "execution_count": 107,
   "id": "debb5739",
   "metadata": {
    "scrolled": true
   },
   "outputs": [],
   "source": [
    "sql_statement7 = \"\"\"\n",
    "                delete from gp20.professor\n",
    "                where p_email = '{}'\n",
    "                \n",
    "                \"\"\".format('marrinsp@jmu.edu')"
   ]
  },
  {
   "cell_type": "code",
   "execution_count": 108,
   "id": "06ee3152",
   "metadata": {},
   "outputs": [],
   "source": [
    "cur.execute(sql_statement7)"
   ]
  },
  {
   "cell_type": "code",
   "execution_count": 109,
   "id": "6bff153d",
   "metadata": {},
   "outputs": [],
   "source": [
    "conn.commit()"
   ]
  },
  {
   "cell_type": "code",
   "execution_count": 110,
   "id": "15ea85d2",
   "metadata": {},
   "outputs": [
    {
     "data": {
      "text/html": [
       "<div>\n",
       "<style scoped>\n",
       "    .dataframe tbody tr th:only-of-type {\n",
       "        vertical-align: middle;\n",
       "    }\n",
       "\n",
       "    .dataframe tbody tr th {\n",
       "        vertical-align: top;\n",
       "    }\n",
       "\n",
       "    .dataframe thead th {\n",
       "        text-align: right;\n",
       "    }\n",
       "</style>\n",
       "<table border=\"1\" class=\"dataframe\">\n",
       "  <thead>\n",
       "    <tr style=\"text-align: right;\">\n",
       "      <th></th>\n",
       "      <th>p_email</th>\n",
       "      <th>p_name</th>\n",
       "      <th>p_office</th>\n",
       "    </tr>\n",
       "  </thead>\n",
       "  <tbody>\n",
       "    <tr>\n",
       "      <th>0</th>\n",
       "      <td>danzelox@jmu.edu</td>\n",
       "      <td>orrlandrew danzell</td>\n",
       "      <td>isat/cs107</td>\n",
       "    </tr>\n",
       "    <tr>\n",
       "      <th>1</th>\n",
       "      <td>waltontr@jmu.edu</td>\n",
       "      <td>timothy walton</td>\n",
       "      <td>isat/cs326</td>\n",
       "    </tr>\n",
       "    <tr>\n",
       "      <th>2</th>\n",
       "      <td>new_p@jmu.edu</td>\n",
       "      <td>new_p</td>\n",
       "      <td>new_office</td>\n",
       "    </tr>\n",
       "    <tr>\n",
       "      <th>3</th>\n",
       "      <td>rabb@jmu.edu</td>\n",
       "      <td>rabb</td>\n",
       "      <td>isat312</td>\n",
       "    </tr>\n",
       "    <tr>\n",
       "      <th>4</th>\n",
       "      <td>julian@jmu.edu</td>\n",
       "      <td>julian</td>\n",
       "      <td>isat1010</td>\n",
       "    </tr>\n",
       "    <tr>\n",
       "      <th>5</th>\n",
       "      <td>tayler@jmu.edu</td>\n",
       "      <td>tayler</td>\n",
       "      <td>isat1011</td>\n",
       "    </tr>\n",
       "    <tr>\n",
       "      <th>6</th>\n",
       "      <td>p6@jmu.edu</td>\n",
       "      <td>p6</td>\n",
       "      <td>66</td>\n",
       "    </tr>\n",
       "    <tr>\n",
       "      <th>7</th>\n",
       "      <td>p7@jmu.edu</td>\n",
       "      <td>p7</td>\n",
       "      <td>77</td>\n",
       "    </tr>\n",
       "    <tr>\n",
       "      <th>8</th>\n",
       "      <td>p8@jmu.edu</td>\n",
       "      <td>p8</td>\n",
       "      <td>88</td>\n",
       "    </tr>\n",
       "  </tbody>\n",
       "</table>\n",
       "</div>"
      ],
      "text/plain": [
       "            p_email              p_name    p_office\n",
       "0  danzelox@jmu.edu  orrlandrew danzell  isat/cs107\n",
       "1  waltontr@jmu.edu      timothy walton  isat/cs326\n",
       "2     new_p@jmu.edu               new_p  new_office\n",
       "3      rabb@jmu.edu                rabb     isat312\n",
       "4    julian@jmu.edu              julian    isat1010\n",
       "5    tayler@jmu.edu              tayler    isat1011\n",
       "6        p6@jmu.edu                  p6          66\n",
       "7        p7@jmu.edu                  p7          77\n",
       "8        p8@jmu.edu                  p8          88"
      ]
     },
     "execution_count": 110,
     "metadata": {},
     "output_type": "execute_result"
    }
   ],
   "source": [
    "df_p=pandas.read_sql_query('select * from gp20.professor',conn)\n",
    "df_p[:]"
   ]
  },
  {
   "cell_type": "code",
   "execution_count": 31,
   "id": "ba9010b2",
   "metadata": {},
   "outputs": [],
   "source": [
    "cur.close()"
   ]
  },
  {
   "cell_type": "code",
   "execution_count": 32,
   "id": "84d2c7a7",
   "metadata": {},
   "outputs": [],
   "source": [
    "conn.close()"
   ]
  },
  {
   "cell_type": "code",
   "execution_count": null,
   "id": "0a834d64",
   "metadata": {},
   "outputs": [],
   "source": []
  }
 ],
 "metadata": {
  "kernelspec": {
   "display_name": "conda_python3",
   "language": "python",
   "name": "conda_python3"
  },
  "language_info": {
   "codemirror_mode": {
    "name": "ipython",
    "version": 3
   },
   "file_extension": ".py",
   "mimetype": "text/x-python",
   "name": "python",
   "nbconvert_exporter": "python",
   "pygments_lexer": "ipython3",
   "version": "3.6.13"
  }
 },
 "nbformat": 4,
 "nbformat_minor": 5
}
